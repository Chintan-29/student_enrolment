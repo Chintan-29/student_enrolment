{
  "cells": [
    {
      "cell_type": "markdown",
      "metadata": {
        "id": "view-in-github",
        "colab_type": "text"
      },
      "source": [
        "<a href=\"https://colab.research.google.com/github/Chintan-29/student_enrolment/blob/main/student_enrollment.ipynb\" target=\"_parent\"><img src=\"https://colab.research.google.com/assets/colab-badge.svg\" alt=\"Open In Colab\"/></a>"
      ]
    },
    {
      "cell_type": "code",
      "execution_count": null,
      "id": "e88856fc",
      "metadata": {
        "_cell_guid": "b1076dfc-b9ad-4769-8c92-a6c4dae69d19",
        "_uuid": "8f2839f25d086af736a60e9eeb907d3b93b6e0e5",
        "execution": {
          "iopub.execute_input": "2022-09-09T05:32:41.410385Z",
          "iopub.status.busy": "2022-09-09T05:32:41.408960Z",
          "iopub.status.idle": "2022-09-09T05:32:41.424567Z",
          "shell.execute_reply": "2022-09-09T05:32:41.423531Z"
        },
        "papermill": {
          "duration": 0.028761,
          "end_time": "2022-09-09T05:32:41.427423",
          "exception": false,
          "start_time": "2022-09-09T05:32:41.398662",
          "status": "completed"
        },
        "tags": [],
        "id": "e88856fc",
        "outputId": "ed87e799-c969-4cdb-d9d3-45669c79fd37"
      },
      "outputs": [
        {
          "name": "stdout",
          "output_type": "stream",
          "text": [
            "/kaggle/input/students-drop-out-prediction/train.csv\n",
            "/kaggle/input/students-drop-out-prediction/test.csv\n"
          ]
        }
      ],
      "source": [
        "# This Python 3 environment comes with many helpful analytics libraries installed\n",
        "# It is defined by the kaggle/python Docker image: https://github.com/kaggle/docker-python\n",
        "# For example, here's several helpful packages to load\n",
        "\n",
        "import numpy as np # linear algebra\n",
        "import pandas as pd # data processing, CSV file I/O (e.g. pd.read_csv)\n",
        "\n",
        "# Input data files are available in the read-only \"../input/\" directory\n",
        "# For example, running this (by clicking run or pressing Shift+Enter) will list all files under the input directory\n",
        "\n",
        "import os\n",
        "for dirname, _, filenames in os.walk('/kaggle/input'):\n",
        "    for filename in filenames:\n",
        "        print(os.path.join(dirname, filename))\n",
        "\n",
        "# You can write up to 20GB to the current directory (/kaggle/working/) that gets preserved as output when you create a version using \"Save & Run All\" \n",
        "# You can also write temporary files to /kaggle/temp/, but they won't be saved outside of the current session"
      ]
    },
    {
      "cell_type": "code",
      "execution_count": null,
      "id": "158aa29c",
      "metadata": {
        "execution": {
          "iopub.execute_input": "2022-09-09T05:32:41.445287Z",
          "iopub.status.busy": "2022-09-09T05:32:41.444070Z",
          "iopub.status.idle": "2022-09-09T05:32:43.090594Z",
          "shell.execute_reply": "2022-09-09T05:32:43.089464Z"
        },
        "papermill": {
          "duration": 1.658124,
          "end_time": "2022-09-09T05:32:43.093454",
          "exception": false,
          "start_time": "2022-09-09T05:32:41.435330",
          "status": "completed"
        },
        "tags": [],
        "id": "158aa29c"
      },
      "outputs": [],
      "source": [
        "from sklearn.model_selection import train_test_split\n",
        "from imblearn.over_sampling import SMOTE\n",
        "from sklearn.preprocessing import MinMaxScaler\n",
        "from sklearn.preprocessing import StandardScaler\n",
        "from sklearn.preprocessing import PolynomialFeatures\n",
        "from sklearn.linear_model import LogisticRegression\n",
        "from sklearn.linear_model import LinearRegression\n",
        "from sklearn.model_selection import GridSearchCV\n",
        "from sklearn.compose import ColumnTransformer\n",
        "from sklearn.ensemble import BaggingClassifier\n",
        "from sklearn.neighbors import KNeighborsClassifier\n",
        "from sklearn.svm import SVC\n",
        "from sklearn.preprocessing import OneHotEncoder\n",
        "from sklearn.pipeline import Pipeline\n",
        "from sklearn.pipeline import make_pipeline\n",
        "from sklearn.tree import DecisionTreeClassifier\n",
        "from sklearn.ensemble import RandomForestClassifier\n",
        "from sklearn.ensemble import BaggingClassifier\n",
        "from sklearn.ensemble import GradientBoostingClassifier\n",
        "from sklearn.neural_network import MLPClassifier\n",
        "from sklearn.metrics import f1_score\n",
        "from sklearn.metrics import confusion_matrix\n",
        "from sklearn.feature_selection import SelectKBest\n",
        "from sklearn.feature_selection import chi2\n",
        "from sklearn.model_selection import cross_val_score\n",
        "import matplotlib.pyplot as plt"
      ]
    },
    {
      "cell_type": "code",
      "execution_count": null,
      "id": "dee30d74",
      "metadata": {
        "execution": {
          "iopub.execute_input": "2022-09-09T05:32:43.110253Z",
          "iopub.status.busy": "2022-09-09T05:32:43.109823Z",
          "iopub.status.idle": "2022-09-09T05:32:43.173499Z",
          "shell.execute_reply": "2022-09-09T05:32:43.172053Z"
        },
        "papermill": {
          "duration": 0.075449,
          "end_time": "2022-09-09T05:32:43.176421",
          "exception": false,
          "start_time": "2022-09-09T05:32:43.100972",
          "status": "completed"
        },
        "tags": [],
        "id": "dee30d74"
      },
      "outputs": [],
      "source": [
        "train=pd.read_csv('../input/students-drop-out-prediction/train.csv')\n",
        "test=pd.read_csv('../input/students-drop-out-prediction/test.csv')"
      ]
    },
    {
      "cell_type": "code",
      "execution_count": null,
      "id": "c57b249f",
      "metadata": {
        "execution": {
          "iopub.execute_input": "2022-09-09T05:32:43.193319Z",
          "iopub.status.busy": "2022-09-09T05:32:43.192862Z",
          "iopub.status.idle": "2022-09-09T05:32:43.202773Z",
          "shell.execute_reply": "2022-09-09T05:32:43.201351Z"
        },
        "papermill": {
          "duration": 0.021464,
          "end_time": "2022-09-09T05:32:43.205512",
          "exception": false,
          "start_time": "2022-09-09T05:32:43.184048",
          "status": "completed"
        },
        "tags": [],
        "id": "c57b249f",
        "outputId": "cf68c684-6171-4838-b1ff-39afb9ef1186"
      },
      "outputs": [
        {
          "data": {
            "text/plain": [
              "((3796, 43), (1628, 42))"
            ]
          },
          "execution_count": 4,
          "metadata": {},
          "output_type": "execute_result"
        }
      ],
      "source": [
        "train.shape, test.shape"
      ]
    },
    {
      "cell_type": "code",
      "execution_count": null,
      "id": "7a7e39fb",
      "metadata": {
        "execution": {
          "iopub.execute_input": "2022-09-09T05:32:43.223023Z",
          "iopub.status.busy": "2022-09-09T05:32:43.222310Z",
          "iopub.status.idle": "2022-09-09T05:32:43.239195Z",
          "shell.execute_reply": "2022-09-09T05:32:43.238010Z"
        },
        "papermill": {
          "duration": 0.028452,
          "end_time": "2022-09-09T05:32:43.241780",
          "exception": false,
          "start_time": "2022-09-09T05:32:43.213328",
          "status": "completed"
        },
        "tags": [],
        "id": "7a7e39fb"
      },
      "outputs": [],
      "source": [
        "X=train.drop(['label','id'], axis=1)\n",
        "y=train['label']\n",
        "x_test=test.drop(['id'], axis=1)"
      ]
    },
    {
      "cell_type": "code",
      "execution_count": null,
      "id": "ac40b2e1",
      "metadata": {
        "execution": {
          "iopub.execute_input": "2022-09-09T05:32:43.259239Z",
          "iopub.status.busy": "2022-09-09T05:32:43.258125Z",
          "iopub.status.idle": "2022-09-09T05:32:43.267678Z",
          "shell.execute_reply": "2022-09-09T05:32:43.266340Z"
        },
        "papermill": {
          "duration": 0.020642,
          "end_time": "2022-09-09T05:32:43.270041",
          "exception": false,
          "start_time": "2022-09-09T05:32:43.249399",
          "status": "completed"
        },
        "tags": [],
        "id": "ac40b2e1"
      },
      "outputs": [],
      "source": [
        "from sklearn.model_selection import train_test_split\n",
        "xtrain,xtest,ytrain,ytest=train_test_split(X,y,test_size=0.2, random_state=42)"
      ]
    },
    {
      "cell_type": "code",
      "execution_count": null,
      "id": "726d6fa3",
      "metadata": {
        "execution": {
          "iopub.execute_input": "2022-09-09T05:32:43.287220Z",
          "iopub.status.busy": "2022-09-09T05:32:43.286507Z",
          "iopub.status.idle": "2022-09-09T05:32:43.294521Z",
          "shell.execute_reply": "2022-09-09T05:32:43.293539Z"
        },
        "papermill": {
          "duration": 0.01931,
          "end_time": "2022-09-09T05:32:43.296982",
          "exception": false,
          "start_time": "2022-09-09T05:32:43.277672",
          "status": "completed"
        },
        "tags": [],
        "id": "726d6fa3"
      },
      "outputs": [],
      "source": [
        "binary=['v_1','v_26','v_11','v_14','v_28','v_30','v_9','v_27']\n",
        "nominal=['v_32','v_4','v_3','v_20','v_21','v_18','v_25','v_12']\n",
        "ordinal=['v_31','v_15','v_19','v_13','v_33','v_17','v_29','v_23','v_6','v_24','v_10','v_5','v_22','v_0']\n",
        "ratio=['v_16','v_8','v_2','v_7','v_34','v_35','v_36','v_37','v_38','v_39','v_40']\n",
        "scale=['v_16','v_8','v_2','v_7','v_34','v_35','v_36','v_37','v_38','v_39','v_40','v_31','v_15','v_19','v_13','v_33','v_17','v_29','v_23','v_6','v_24','v_10','v_5','v_22','v_0','v_32','v_4','v_3','v_20','v_21','v_18','v_25','v_12']\n",
        "ordinal_nominal=['v_31','v_15','v_19','v_13','v_33','v_17','v_29','v_23','v_6','v_24','v_10','v_5','v_22','v_0','v_32','v_4','v_3','v_20','v_21','v_18','v_25','v_12']"
      ]
    },
    {
      "cell_type": "code",
      "execution_count": null,
      "id": "ea0e7721",
      "metadata": {
        "execution": {
          "iopub.execute_input": "2022-09-09T05:32:43.314095Z",
          "iopub.status.busy": "2022-09-09T05:32:43.313381Z",
          "iopub.status.idle": "2022-09-09T05:32:43.336738Z",
          "shell.execute_reply": "2022-09-09T05:32:43.335595Z"
        },
        "papermill": {
          "duration": 0.035083,
          "end_time": "2022-09-09T05:32:43.339707",
          "exception": false,
          "start_time": "2022-09-09T05:32:43.304624",
          "status": "completed"
        },
        "tags": [],
        "id": "ea0e7721"
      },
      "outputs": [],
      "source": [
        "mms=MinMaxScaler()\n",
        "ssc=StandardScaler()\n",
        "ohe=OneHotEncoder()\n",
        "xtrain[scale]=ssc.fit_transform(xtrain[scale])"
      ]
    },
    {
      "cell_type": "code",
      "execution_count": null,
      "id": "51abe84e",
      "metadata": {
        "execution": {
          "iopub.execute_input": "2022-09-09T05:32:43.358323Z",
          "iopub.status.busy": "2022-09-09T05:32:43.357038Z",
          "iopub.status.idle": "2022-09-09T05:32:43.379081Z",
          "shell.execute_reply": "2022-09-09T05:32:43.377901Z"
        },
        "papermill": {
          "duration": 0.034542,
          "end_time": "2022-09-09T05:32:43.381914",
          "exception": false,
          "start_time": "2022-09-09T05:32:43.347372",
          "status": "completed"
        },
        "tags": [],
        "id": "51abe84e"
      },
      "outputs": [],
      "source": [
        "xtest[scale]=ssc.transform(xtest[scale])\n",
        "x_test[scale]=ssc.transform(x_test[scale])"
      ]
    },
    {
      "cell_type": "code",
      "execution_count": null,
      "id": "69faa6d4",
      "metadata": {
        "papermill": {
          "duration": 0.007153,
          "end_time": "2022-09-09T05:32:43.396421",
          "exception": false,
          "start_time": "2022-09-09T05:32:43.389268",
          "status": "completed"
        },
        "tags": [],
        "id": "69faa6d4"
      },
      "outputs": [],
      "source": []
    },
    {
      "cell_type": "code",
      "execution_count": null,
      "id": "56f12fd1",
      "metadata": {
        "execution": {
          "iopub.execute_input": "2022-09-09T05:32:43.413643Z",
          "iopub.status.busy": "2022-09-09T05:32:43.412829Z",
          "iopub.status.idle": "2022-09-09T05:32:43.764708Z",
          "shell.execute_reply": "2022-09-09T05:32:43.763658Z"
        },
        "papermill": {
          "duration": 0.363408,
          "end_time": "2022-09-09T05:32:43.767244",
          "exception": false,
          "start_time": "2022-09-09T05:32:43.403836",
          "status": "completed"
        },
        "tags": [],
        "id": "56f12fd1",
        "outputId": "5e194300-22d7-4efa-ac75-f83c9276735f"
      },
      "outputs": [
        {
          "data": {
            "text/plain": [
              "[<matplotlib.lines.Line2D at 0x7efef313f150>]"
            ]
          },
          "execution_count": 10,
          "metadata": {},
          "output_type": "execute_result"
        },
        {
          "data": {
            "image/png": "[encoded data removed]",
            "text/plain": [
              "<Figure size 432x288 with 1 Axes>"
            ]
          },
          "metadata": {
            "needs_background": "light"
          },
          "output_type": "display_data"
        }
      ],
      "source": [
        "from sklearn.decomposition import PCA\n",
        "  \n",
        "pca = PCA()\n",
        "pca.fit(xtrain)\n",
        "explained_variance = np.cumsum(pca.explained_variance_ratio_)\n",
        "plt.plot(explained_variance)"
      ]
    },
    {
      "cell_type": "code",
      "execution_count": null,
      "id": "9660f4e6",
      "metadata": {
        "execution": {
          "iopub.execute_input": "2022-09-09T05:32:43.784951Z",
          "iopub.status.busy": "2022-09-09T05:32:43.784532Z",
          "iopub.status.idle": "2022-09-09T05:32:43.819980Z",
          "shell.execute_reply": "2022-09-09T05:32:43.818366Z"
        },
        "papermill": {
          "duration": 0.049129,
          "end_time": "2022-09-09T05:32:43.824498",
          "exception": false,
          "start_time": "2022-09-09T05:32:43.775369",
          "status": "completed"
        },
        "tags": [],
        "id": "9660f4e6"
      },
      "outputs": [],
      "source": [
        "pca_final = PCA(0.98)\n",
        "train_pca = pca_final.fit_transform(xtrain)\n",
        "test_pca=pca_final.transform(xtest)"
      ]
    },
    {
      "cell_type": "code",
      "execution_count": null,
      "id": "8505a8ad",
      "metadata": {
        "execution": {
          "iopub.execute_input": "2022-09-09T05:32:43.928131Z",
          "iopub.status.busy": "2022-09-09T05:32:43.927430Z",
          "iopub.status.idle": "2022-09-09T05:32:44.046017Z",
          "shell.execute_reply": "2022-09-09T05:32:44.044367Z"
        },
        "papermill": {
          "duration": 0.178554,
          "end_time": "2022-09-09T05:32:44.051627",
          "exception": false,
          "start_time": "2022-09-09T05:32:43.873073",
          "status": "completed"
        },
        "tags": [],
        "id": "8505a8ad",
        "outputId": "b9851971-ad2c-4c29-b6cf-2783aa6df5bf"
      },
      "outputs": [
        {
          "data": {
            "text/plain": [
              "0.7263157894736842"
            ]
          },
          "execution_count": 12,
          "metadata": {},
          "output_type": "execute_result"
        }
      ],
      "source": [
        "LR = LogisticRegression()\n",
        "LR_pca=LR.fit(train_pca,ytrain)\n",
        "yp1=LR_pca.predict(test_pca)\n",
        "f1_score(ytest,yp1,average='micro')"
      ]
    },
    {
      "cell_type": "code",
      "execution_count": null,
      "id": "50fe29e2",
      "metadata": {
        "execution": {
          "iopub.execute_input": "2022-09-09T05:32:44.099951Z",
          "iopub.status.busy": "2022-09-09T05:32:44.099233Z",
          "iopub.status.idle": "2022-09-09T05:32:44.118006Z",
          "shell.execute_reply": "2022-09-09T05:32:44.116161Z"
        },
        "papermill": {
          "duration": 0.049015,
          "end_time": "2022-09-09T05:32:44.123565",
          "exception": false,
          "start_time": "2022-09-09T05:32:44.074550",
          "status": "completed"
        },
        "tags": [],
        "id": "50fe29e2",
        "outputId": "fb3c6da1-ffd2-4f5e-bc20-85765a0d49e0"
      },
      "outputs": [
        {
          "data": {
            "text/plain": [
              "(3036, 34)"
            ]
          },
          "execution_count": 13,
          "metadata": {},
          "output_type": "execute_result"
        }
      ],
      "source": [
        "train_pca.shape"
      ]
    },
    {
      "cell_type": "code",
      "execution_count": null,
      "id": "32c16a82",
      "metadata": {
        "execution": {
          "iopub.execute_input": "2022-09-09T05:32:44.158201Z",
          "iopub.status.busy": "2022-09-09T05:32:44.157693Z",
          "iopub.status.idle": "2022-09-09T05:32:44.392276Z",
          "shell.execute_reply": "2022-09-09T05:32:44.390777Z"
        },
        "papermill": {
          "duration": 0.25238,
          "end_time": "2022-09-09T05:32:44.396620",
          "exception": false,
          "start_time": "2022-09-09T05:32:44.144240",
          "status": "completed"
        },
        "tags": [],
        "id": "32c16a82",
        "outputId": "a40821d4-3703-4a9b-c9c6-3e14851f48b0"
      },
      "outputs": [
        {
          "data": {
            "text/plain": [
              "0.7263157894736842"
            ]
          },
          "execution_count": 14,
          "metadata": {},
          "output_type": "execute_result"
        }
      ],
      "source": [
        "lr=LR.fit(xtrain,ytrain)\n",
        "yp2=lr.predict(xtest)\n",
        "f1_score(ytest,yp1,average='micro')"
      ]
    },
    {
      "cell_type": "code",
      "execution_count": null,
      "id": "12e50f73",
      "metadata": {
        "execution": {
          "iopub.execute_input": "2022-09-09T05:32:44.441085Z",
          "iopub.status.busy": "2022-09-09T05:32:44.440396Z",
          "iopub.status.idle": "2022-09-09T05:32:44.458959Z",
          "shell.execute_reply": "2022-09-09T05:32:44.457400Z"
        },
        "papermill": {
          "duration": 0.046443,
          "end_time": "2022-09-09T05:32:44.464024",
          "exception": false,
          "start_time": "2022-09-09T05:32:44.417581",
          "status": "completed"
        },
        "tags": [],
        "id": "12e50f73",
        "outputId": "60f56171-aa0f-422e-81b3-2b36ad770f1b"
      },
      "outputs": [
        {
          "data": {
            "text/plain": [
              "((3036, 41), (3036,))"
            ]
          },
          "execution_count": 15,
          "metadata": {},
          "output_type": "execute_result"
        }
      ],
      "source": [
        "xtrain.shape,ytrain.shape"
      ]
    },
    {
      "cell_type": "code",
      "execution_count": null,
      "id": "c1482e21",
      "metadata": {
        "execution": {
          "iopub.execute_input": "2022-09-09T05:32:44.502863Z",
          "iopub.status.busy": "2022-09-09T05:32:44.502482Z",
          "iopub.status.idle": "2022-09-09T05:32:46.032732Z",
          "shell.execute_reply": "2022-09-09T05:32:46.031526Z"
        },
        "papermill": {
          "duration": 1.550153,
          "end_time": "2022-09-09T05:32:46.035094",
          "exception": false,
          "start_time": "2022-09-09T05:32:44.484941",
          "status": "completed"
        },
        "tags": [],
        "id": "c1482e21",
        "outputId": "b8a31a3e-a3dd-4c9c-bc3a-e014d98acff8"
      },
      "outputs": [
        {
          "data": {
            "text/plain": [
              "0.6881578947368421"
            ]
          },
          "execution_count": 16,
          "metadata": {},
          "output_type": "execute_result"
        }
      ],
      "source": [
        "rf=RandomForestClassifier()\n",
        "base=rf.fit(train_pca,ytrain)\n",
        "yp=base.predict(test_pca)\n",
        "f1_score(ytest,yp,average='micro')"
      ]
    },
    {
      "cell_type": "code",
      "execution_count": null,
      "id": "b8e74b56",
      "metadata": {
        "execution": {
          "iopub.execute_input": "2022-09-09T05:32:46.053874Z",
          "iopub.status.busy": "2022-09-09T05:32:46.053441Z",
          "iopub.status.idle": "2022-09-09T05:32:46.852619Z",
          "shell.execute_reply": "2022-09-09T05:32:46.851243Z"
        },
        "papermill": {
          "duration": 0.811859,
          "end_time": "2022-09-09T05:32:46.855510",
          "exception": false,
          "start_time": "2022-09-09T05:32:46.043651",
          "status": "completed"
        },
        "tags": [],
        "id": "b8e74b56",
        "outputId": "6aa994fb-2ba5-42ec-b936-0266487b1ed0"
      },
      "outputs": [
        {
          "data": {
            "text/plain": [
              "0.7368421052631579"
            ]
          },
          "execution_count": 17,
          "metadata": {},
          "output_type": "execute_result"
        }
      ],
      "source": [
        "rf=RandomForestClassifier()\n",
        "base=rf.fit(xtrain,ytrain)\n",
        "yp3=base.predict(xtest)\n",
        "f1_score(ytest,yp3,average='micro')"
      ]
    },
    {
      "cell_type": "code",
      "execution_count": null,
      "id": "d3d1265a",
      "metadata": {
        "execution": {
          "iopub.execute_input": "2022-09-09T05:32:46.877022Z",
          "iopub.status.busy": "2022-09-09T05:32:46.876133Z",
          "iopub.status.idle": "2022-09-09T05:32:46.883050Z",
          "shell.execute_reply": "2022-09-09T05:32:46.881554Z"
        },
        "papermill": {
          "duration": 0.020927,
          "end_time": "2022-09-09T05:32:46.885587",
          "exception": false,
          "start_time": "2022-09-09T05:32:46.864660",
          "status": "completed"
        },
        "tags": [],
        "id": "d3d1265a"
      },
      "outputs": [],
      "source": [
        "'''param={'bootstrap': [True, False],\n",
        "     'max_depth': [10, 40, 70, None],\n",
        "     'max_features': ['auto', 'sqrt'],\n",
        "     'min_samples_leaf': [1, 2, 4],\n",
        "     'min_samples_split': [2, 5, 10],\n",
        "     'n_estimators': [ 400, 800, 1000, 1200]}\n",
        "rf_2 = RandomForestClassifier()\n",
        "rf_g = GridSearchCV(estimator = rf_2, param_grid = param,  cv = 2, verbose=2)\n",
        "rf_g.fit(xtrain1, ytrain)\n",
        "yp_4=rf_g.predict(xtest1)\n",
        "f1_score(ytest,yp_4, average='micro')'''\n",
        "rf1=RandomForestClassifier(n_estimators=1200,bootstrap=False,max_depth=40,max_features='auto',min_samples_leaf=1, min_samples_split=2)"
      ]
    },
    {
      "cell_type": "code",
      "execution_count": null,
      "id": "9312da33",
      "metadata": {
        "execution": {
          "iopub.execute_input": "2022-09-09T05:32:46.905125Z",
          "iopub.status.busy": "2022-09-09T05:32:46.904703Z",
          "iopub.status.idle": "2022-09-09T05:32:46.910327Z",
          "shell.execute_reply": "2022-09-09T05:32:46.909064Z"
        },
        "papermill": {
          "duration": 0.018541,
          "end_time": "2022-09-09T05:32:46.913042",
          "exception": false,
          "start_time": "2022-09-09T05:32:46.894501",
          "status": "completed"
        },
        "tags": [],
        "id": "9312da33"
      },
      "outputs": [],
      "source": [
        "rf2=RandomForestClassifier(n_estimators=1200,bootstrap=False,max_depth=40,max_features='sqrt',min_samples_leaf=1, min_samples_split=2)"
      ]
    },
    {
      "cell_type": "code",
      "execution_count": null,
      "id": "945859b5",
      "metadata": {
        "execution": {
          "iopub.execute_input": "2022-09-09T05:32:46.932187Z",
          "iopub.status.busy": "2022-09-09T05:32:46.931784Z",
          "iopub.status.idle": "2022-09-09T05:32:52.640706Z",
          "shell.execute_reply": "2022-09-09T05:32:52.639555Z"
        },
        "papermill": {
          "duration": 5.721819,
          "end_time": "2022-09-09T05:32:52.643621",
          "exception": false,
          "start_time": "2022-09-09T05:32:46.921802",
          "status": "completed"
        },
        "tags": [],
        "id": "945859b5",
        "outputId": "fdf5756a-ebd3-40b8-d571-55df74c6e367"
      },
      "outputs": [
        {
          "data": {
            "text/plain": [
              "0.731578947368421"
            ]
          },
          "execution_count": 20,
          "metadata": {},
          "output_type": "execute_result"
        }
      ],
      "source": [
        "bg1=BaggingClassifier(base_estimator=RandomForestClassifier())\n",
        "bg1=bg1.fit(xtrain,ytrain)\n",
        "yp6=bg1.predict(xtest)\n",
        "f1_score(ytest,yp6,average='micro')"
      ]
    },
    {
      "cell_type": "code",
      "execution_count": null,
      "id": "6a379afa",
      "metadata": {
        "execution": {
          "iopub.execute_input": "2022-09-09T05:32:52.663306Z",
          "iopub.status.busy": "2022-09-09T05:32:52.662856Z",
          "iopub.status.idle": "2022-09-09T05:32:53.563618Z",
          "shell.execute_reply": "2022-09-09T05:32:53.562355Z"
        },
        "papermill": {
          "duration": 0.913247,
          "end_time": "2022-09-09T05:32:53.566109",
          "exception": false,
          "start_time": "2022-09-09T05:32:52.652862",
          "status": "completed"
        },
        "tags": [],
        "id": "6a379afa",
        "outputId": "f5e60ca0-24f3-45b3-dad7-c683b9de7cc0"
      },
      "outputs": [
        {
          "data": {
            "text/plain": [
              "0.7289473684210527"
            ]
          },
          "execution_count": 21,
          "metadata": {},
          "output_type": "execute_result"
        }
      ],
      "source": [
        "from sklearn.ensemble import AdaBoostClassifier\n",
        "ad=AdaBoostClassifier(n_estimators=50,base_estimator=RandomForestClassifier())\n",
        "ad=ad.fit(xtrain,ytrain)\n",
        "yp7=ad.predict(xtest)\n",
        "f1_score(ytest,yp7,average='micro')"
      ]
    },
    {
      "cell_type": "code",
      "execution_count": null,
      "id": "6eb7c383",
      "metadata": {
        "execution": {
          "iopub.execute_input": "2022-09-09T05:32:53.585618Z",
          "iopub.status.busy": "2022-09-09T05:32:53.585186Z",
          "iopub.status.idle": "2022-09-09T05:33:07.922216Z",
          "shell.execute_reply": "2022-09-09T05:33:07.920952Z"
        },
        "papermill": {
          "duration": 14.349764,
          "end_time": "2022-09-09T05:33:07.924770",
          "exception": false,
          "start_time": "2022-09-09T05:32:53.575006",
          "status": "completed"
        },
        "tags": [],
        "id": "6eb7c383",
        "outputId": "a26d20ae-29b0-4ae5-c9f9-8e0bb7fbdc85"
      },
      "outputs": [
        {
          "data": {
            "text/plain": [
              "0.7407894736842106"
            ]
          },
          "execution_count": 22,
          "metadata": {},
          "output_type": "execute_result"
        }
      ],
      "source": [
        "ad1=AdaBoostClassifier(n_estimators=50,base_estimator=rf1)\n",
        "ad1=ad1.fit(xtrain,ytrain)\n",
        "yp8=ad1.predict(xtest)\n",
        "f1_score(ytest,yp8,average='micro')"
      ]
    },
    {
      "cell_type": "code",
      "execution_count": null,
      "id": "6862ed2f",
      "metadata": {
        "execution": {
          "iopub.execute_input": "2022-09-09T05:33:07.944691Z",
          "iopub.status.busy": "2022-09-09T05:33:07.944233Z",
          "iopub.status.idle": "2022-09-09T05:33:22.268643Z",
          "shell.execute_reply": "2022-09-09T05:33:22.267358Z"
        },
        "papermill": {
          "duration": 14.337382,
          "end_time": "2022-09-09T05:33:22.271360",
          "exception": false,
          "start_time": "2022-09-09T05:33:07.933978",
          "status": "completed"
        },
        "tags": [],
        "id": "6862ed2f",
        "outputId": "0d8e6dcf-ec69-4ed0-ee37-d9cfcc013ecc"
      },
      "outputs": [
        {
          "data": {
            "text/plain": [
              "0.7407894736842106"
            ]
          },
          "execution_count": 23,
          "metadata": {},
          "output_type": "execute_result"
        }
      ],
      "source": [
        "ad1=AdaBoostClassifier(n_estimators=50,base_estimator=rf2)\n",
        "ad1=ad1.fit(xtrain,ytrain)\n",
        "yhat_1=ad1.predict(xtest)\n",
        "f1_score(ytest,yhat_1,average='micro')"
      ]
    },
    {
      "cell_type": "code",
      "execution_count": null,
      "id": "8c33c592",
      "metadata": {
        "execution": {
          "iopub.execute_input": "2022-09-09T05:33:22.291768Z",
          "iopub.status.busy": "2022-09-09T05:33:22.291068Z",
          "iopub.status.idle": "2022-09-09T05:33:51.982334Z",
          "shell.execute_reply": "2022-09-09T05:33:51.981201Z"
        },
        "papermill": {
          "duration": 29.704686,
          "end_time": "2022-09-09T05:33:51.985263",
          "exception": false,
          "start_time": "2022-09-09T05:33:22.280577",
          "status": "completed"
        },
        "tags": [],
        "id": "8c33c592",
        "outputId": "32473630-fc10-498d-ca7b-04fdf96bef99"
      },
      "outputs": [
        {
          "data": {
            "text/plain": [
              "0.6947368421052632"
            ]
          },
          "execution_count": 24,
          "metadata": {},
          "output_type": "execute_result"
        }
      ],
      "source": [
        "ad1=AdaBoostClassifier(n_estimators=50,base_estimator=rf1)\n",
        "ad1=ad1.fit(train_pca,ytrain)\n",
        "yhat_2=ad1.predict(test_pca)\n",
        "f1_score(ytest,yhat_2,average='micro')"
      ]
    },
    {
      "cell_type": "code",
      "execution_count": null,
      "id": "22f53dce",
      "metadata": {
        "execution": {
          "iopub.execute_input": "2022-09-09T05:33:52.005736Z",
          "iopub.status.busy": "2022-09-09T05:33:52.005280Z",
          "iopub.status.idle": "2022-09-09T05:34:06.468544Z",
          "shell.execute_reply": "2022-09-09T05:34:06.467125Z"
        },
        "papermill": {
          "duration": 14.476563,
          "end_time": "2022-09-09T05:34:06.471250",
          "exception": false,
          "start_time": "2022-09-09T05:33:51.994687",
          "status": "completed"
        },
        "tags": [],
        "id": "22f53dce",
        "outputId": "3df85e5d-1159-4e95-bced-f560c706a4b9"
      },
      "outputs": [
        {
          "data": {
            "text/plain": [
              "0.7421052631578947"
            ]
          },
          "execution_count": 25,
          "metadata": {},
          "output_type": "execute_result"
        }
      ],
      "source": [
        "ad3=AdaBoostClassifier(n_estimators=20,base_estimator=rf2)\n",
        "ad3=ad3.fit(xtrain,ytrain)\n",
        "yhat_3=ad3.predict(xtest)\n",
        "f1_score(ytest,yhat_3,average='micro')"
      ]
    },
    {
      "cell_type": "code",
      "execution_count": null,
      "id": "fb22ca7b",
      "metadata": {
        "execution": {
          "iopub.execute_input": "2022-09-09T05:34:06.492803Z",
          "iopub.status.busy": "2022-09-09T05:34:06.491521Z",
          "iopub.status.idle": "2022-09-09T05:34:20.740735Z",
          "shell.execute_reply": "2022-09-09T05:34:20.739878Z"
        },
        "papermill": {
          "duration": 14.262286,
          "end_time": "2022-09-09T05:34:20.743197",
          "exception": false,
          "start_time": "2022-09-09T05:34:06.480911",
          "status": "completed"
        },
        "tags": [],
        "id": "fb22ca7b",
        "outputId": "b9960d38-b237-47c0-ed9a-b920e8a15ddf"
      },
      "outputs": [
        {
          "data": {
            "text/plain": [
              "0.7434210526315789"
            ]
          },
          "execution_count": 26,
          "metadata": {},
          "output_type": "execute_result"
        }
      ],
      "source": [
        "ad4=AdaBoostClassifier(n_estimators=10,base_estimator=rf1)\n",
        "ad4=ad4.fit(xtrain,ytrain)\n",
        "yhat_4=ad4.predict(xtest)\n",
        "f1_score(ytest,yhat_4,average='micro')"
      ]
    },
    {
      "cell_type": "code",
      "execution_count": null,
      "id": "ea53b639",
      "metadata": {
        "execution": {
          "iopub.execute_input": "2022-09-09T05:34:20.766195Z",
          "iopub.status.busy": "2022-09-09T05:34:20.765694Z",
          "iopub.status.idle": "2022-09-09T05:34:35.271648Z",
          "shell.execute_reply": "2022-09-09T05:34:35.270495Z"
        },
        "papermill": {
          "duration": 14.520697,
          "end_time": "2022-09-09T05:34:35.274320",
          "exception": false,
          "start_time": "2022-09-09T05:34:20.753623",
          "status": "completed"
        },
        "tags": [],
        "id": "ea53b639",
        "outputId": "96044d58-e9e1-4dfc-8322-fd1782e1bf80"
      },
      "outputs": [
        {
          "data": {
            "text/plain": [
              "0.7394736842105263"
            ]
          },
          "execution_count": 27,
          "metadata": {},
          "output_type": "execute_result"
        }
      ],
      "source": [
        "ad5=AdaBoostClassifier(n_estimators=5,base_estimator=rf2)\n",
        "ad5=ad5.fit(xtrain,ytrain)\n",
        "yhat_5=ad5.predict(xtest)\n",
        "f1_score(ytest,yhat_5,average='micro')"
      ]
    },
    {
      "cell_type": "code",
      "execution_count": null,
      "id": "68306248",
      "metadata": {
        "execution": {
          "iopub.execute_input": "2022-09-09T05:34:35.295070Z",
          "iopub.status.busy": "2022-09-09T05:34:35.294637Z",
          "iopub.status.idle": "2022-09-09T05:34:35.972318Z",
          "shell.execute_reply": "2022-09-09T05:34:35.970566Z"
        },
        "papermill": {
          "duration": 0.69171,
          "end_time": "2022-09-09T05:34:35.975618",
          "exception": false,
          "start_time": "2022-09-09T05:34:35.283908",
          "status": "completed"
        },
        "tags": [],
        "id": "68306248"
      },
      "outputs": [],
      "source": [
        "label=ad5.predict(x_test)"
      ]
    },
    {
      "cell_type": "code",
      "execution_count": null,
      "id": "77a2a160",
      "metadata": {
        "execution": {
          "iopub.execute_input": "2022-09-09T05:34:35.998368Z",
          "iopub.status.busy": "2022-09-09T05:34:35.997896Z",
          "iopub.status.idle": "2022-09-09T05:34:36.014851Z",
          "shell.execute_reply": "2022-09-09T05:34:36.013426Z"
        },
        "papermill": {
          "duration": 0.03117,
          "end_time": "2022-09-09T05:34:36.017841",
          "exception": false,
          "start_time": "2022-09-09T05:34:35.986671",
          "status": "completed"
        },
        "tags": [],
        "id": "77a2a160"
      },
      "outputs": [],
      "source": [
        "test[\"label\"] = label\n",
        "submission = test[[\"id\", \"label\"]]\n",
        "\n",
        "submission.to_csv(\"submission.csv\", index = False)"
      ]
    }
  ],
  "metadata": {
    "kernelspec": {
      "display_name": "Python 3",
      "language": "python",
      "name": "python3"
    },
    "language_info": {
      "codemirror_mode": {
        "name": "ipython",
        "version": 3
      },
      "file_extension": ".py",
      "mimetype": "text/x-python",
      "name": "python",
      "nbconvert_exporter": "python",
      "pygments_lexer": "ipython3",
      "version": "3.7.12"
    },
    "papermill": {
      "default_parameters": {},
      "duration": 125.977162,
      "end_time": "2022-09-09T05:34:36.953056",
      "environment_variables": {},
      "exception": null,
      "input_path": "__notebook__.ipynb",
      "output_path": "__notebook__.ipynb",
      "parameters": {},
      "start_time": "2022-09-09T05:32:30.975894",
      "version": "2.3.4"
    },
    "colab": {
      "provenance": [],
      "include_colab_link": true
    }
  },
  "nbformat": 4,
  "nbformat_minor": 5
}